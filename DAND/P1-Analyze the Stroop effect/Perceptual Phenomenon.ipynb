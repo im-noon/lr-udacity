{
 "cells": [
  {
   "cell_type": "markdown",
   "metadata": {},
   "source": [
    "## Background Information"
   ]
  },
  {
   "cell_type": "raw",
   "metadata": {},
   "source": [
    "In a Stroop task, participants are presented with a list of words, with each word displayed in a color of ink. The participant’s task is to say out loud the color of the ink in which the word is printed. The task has two conditions: a congruent words condition, and an incongruent words condition. In the congruent words condition, the words being displayed are color words whose names match the colors in which they are printed: for example RED, BLUE. In the incongruent words condition, the words displayed are color words whose names do not match the colors in which they are printed: for example PURPLE, ORANGE. In each case, we measure the time it takes to name the ink colors in equally-sized lists. Each participant will go through and record a time from each condition."
   ]
  },
  {
   "cell_type": "markdown",
   "metadata": {},
   "source": [
    "### 1. What is our independent variable? What is our dependent variable?\n",
    "\n",
    "### Independent variable\n",
    "    list of words\n",
    "### dependent variable\n",
    "    reaction time to name the ink colors"
   ]
  },
  {
   "cell_type": "markdown",
   "metadata": {},
   "source": [
    "### 2. What is an appropriate set of hypotheses for this task? What kind of statistical test do you expect to perform? Justify your choices.\n",
    "\n",
    "### Hypotheses \n",
    "    Time to name the ink colors of congruent words less than time to name the ink colors of incongruent words.\n",
    "   Null hypothesis(H0) : Time to name the ink colors of congruent words and incongruent words are equaivalent.\n",
    "   Alternative hypothesis(1) : Time to name the ink colors of congruent words less than incongruent words.\n",
    "### Staistical test\n",
    "    two-sample t-test."
   ]
  },
  {
   "cell_type": "raw",
   "metadata": {},
   "source": [
    "Now it’s your chance to try out the Stroop task for yourself. Go to this link, which has a Java-based applet for performing the Stroop task. Record the times that you received on the task (you do not need to submit your times to the site.) Now, download this dataset which contains results from a number of participants in the task. Each row of the dataset contains the performance for one participant, with the first number their results on the congruent task and the second number their performance on the incongruent task."
   ]
  },
  {
   "cell_type": "code",
   "execution_count": 1,
   "metadata": {
    "collapsed": false
   },
   "outputs": [
    {
     "name": "stdout",
     "output_type": "stream",
     "text": [
      "    Congruent  Incongruent\n",
      "0      12.079       19.278\n",
      "1      16.791       18.741\n",
      "2       9.564       21.214\n",
      "3       8.630       15.687\n",
      "4      14.669       22.803\n",
      "5      12.238       20.878\n",
      "6      14.692       24.572\n",
      "7       8.987       17.394\n",
      "8       9.401       20.762\n",
      "9      14.480       26.282\n",
      "10     22.328       24.524\n",
      "11     15.298       18.644\n",
      "12     15.073       17.510\n",
      "13     16.929       20.330\n",
      "14     18.200       35.255\n",
      "15     12.130       22.158\n",
      "16     18.495       25.139\n",
      "17     10.639       20.429\n",
      "18     11.344       17.425\n",
      "19     12.369       34.288\n",
      "20     12.944       23.894\n",
      "21     14.233       17.960\n",
      "22     19.710       22.058\n",
      "23     16.004       21.157\n"
     ]
    }
   ],
   "source": [
    "%matplotlib inline\n",
    "import pandas as pd\n",
    "import matplotlib.pyplot as plt\n",
    "from scipy.stats import ttest_ind\n",
    "path = '/Users/Slimn/Desktop/Work/Project/Udacity/NanoDegree/P1/stroopdata.csv'\n",
    "df = pd.read_csv(path)\n",
    "print df"
   ]
  },
  {
   "cell_type": "markdown",
   "metadata": {},
   "source": [
    "### 3. Report some descriptive statistics regarding this dataset. Include at least one measure of central tendency and at least one measure of variability.\n",
    "\n",
    "\tCongruent\tIncongruent\n",
    "\t\t\n",
    "Mean\t14.051125\t22.01591667\n",
    "Standard Error\t0.726550901\t0.979195185\n",
    "Median\t14.3565\t21.0175\n",
    "Mode\t#N/A\t#N/A\n",
    "Standard Deviation\t3.559357958\t4.797057122\n",
    "Sample Variance\t12.66902907\t23.01175704\n",
    "Kurtosis\t-0.205224823\t2.688900198\n",
    "Skewness\t0.416899874\t1.547590026\n",
    "Range\t13.698\t19.568\n",
    "Minimum\t8.63\t15.687\n",
    "Maximum\t22.328\t35.255\n",
    "Sum\t337.227\t528.382\n",
    "Count\t24\t24\n",
    "Confidence Level(95.0%)\t1.50298505\t2.025619571"
   ]
  },
  {
   "cell_type": "code",
   "execution_count": 5,
   "metadata": {
    "collapsed": false,
    "scrolled": true
   },
   "outputs": [
    {
     "data": {
      "text/html": [
       "<div>\n",
       "<table border=\"1\" class=\"dataframe\">\n",
       "  <thead>\n",
       "    <tr style=\"text-align: right;\">\n",
       "      <th></th>\n",
       "      <th>count</th>\n",
       "      <th>mean</th>\n",
       "      <th>std</th>\n",
       "      <th>min</th>\n",
       "      <th>25%</th>\n",
       "      <th>50%</th>\n",
       "      <th>75%</th>\n",
       "      <th>max</th>\n",
       "    </tr>\n",
       "  </thead>\n",
       "  <tbody>\n",
       "    <tr>\n",
       "      <th>Congruent</th>\n",
       "      <td>24</td>\n",
       "      <td>14.051125</td>\n",
       "      <td>3.559358</td>\n",
       "      <td>8.630</td>\n",
       "      <td>11.89525</td>\n",
       "      <td>14.3565</td>\n",
       "      <td>16.20075</td>\n",
       "      <td>22.328</td>\n",
       "    </tr>\n",
       "    <tr>\n",
       "      <th>Incongruent</th>\n",
       "      <td>24</td>\n",
       "      <td>22.015917</td>\n",
       "      <td>4.797057</td>\n",
       "      <td>15.687</td>\n",
       "      <td>18.71675</td>\n",
       "      <td>21.0175</td>\n",
       "      <td>24.05150</td>\n",
       "      <td>35.255</td>\n",
       "    </tr>\n",
       "  </tbody>\n",
       "</table>\n",
       "</div>"
      ],
      "text/plain": [
       "             count       mean       std     min       25%      50%       75%  \\\n",
       "Congruent       24  14.051125  3.559358   8.630  11.89525  14.3565  16.20075   \n",
       "Incongruent     24  22.015917  4.797057  15.687  18.71675  21.0175  24.05150   \n",
       "\n",
       "                max  \n",
       "Congruent    22.328  \n",
       "Incongruent  35.255  "
      ]
     },
     "execution_count": 5,
     "metadata": {},
     "output_type": "execute_result"
    }
   ],
   "source": [
    "summary = df.describe()\n",
    "summary.transpose()"
   ]
  },
  {
   "cell_type": "markdown",
   "metadata": {},
   "source": [
    "### 4. Provide one or two visualizations that show the distribution of the sample data. Write one or two sentences noting what you observe about the plot or plots."
   ]
  },
  {
   "cell_type": "code",
   "execution_count": 4,
   "metadata": {
    "collapsed": false
   },
   "outputs": [
    {
     "name": "stderr",
     "output_type": "stream",
     "text": [
      "/Users/Slimn/anaconda/lib/python2.7/site-packages/ipykernel/__main__.py:3: FutureWarning: \n",
      "The default value for 'return_type' will change to 'axes' in a future release.\n",
      " To use the future behavior now, set return_type='axes'.\n",
      " To keep the previous behavior and silence this warning, set return_type='dict'.\n",
      "  app.launch_new_instance()\n"
     ]
    },
    {
     "data": {
      "text/plain": [
       "<matplotlib.text.Text at 0x10815a910>"
      ]
     },
     "execution_count": 4,
     "metadata": {},
     "output_type": "execute_result"
    },
    {
     "data": {
      "image/png": "[encoded data removed]",
      "text/plain": [
       "<matplotlib.figure.Figure at 0x1080fce90>"
      ]
     },
     "metadata": {},
     "output_type": "display_data"
    }
   ],
   "source": [
    "#%matplotlib inline\n",
    "#plt.figure()\n",
    "ax = df.boxplot()\n",
    "plt.title('Measure time takes to name the ink colors')\n",
    "#plt.figure()\n",
    "#plt.legend()"
   ]
  },
  {
   "cell_type": "markdown",
   "metadata": {},
   "source": [
    "From the plot, \n",
    "mean time for congruent word ~14.\n",
    "mean time for congruent word ~22.\n",
    "the incongruent word have two sample outlier, this data set need to verify.\n",
    "participance taken short time to say for congruent word condition."
   ]
  },
  {
   "cell_type": "markdown",
   "metadata": {},
   "source": [
    "### 5. Now, perform the statistical test and report your results. What is your confidence level and your critical statistic value? Do you reject the null hypothesis or fail to reject it? Come to a conclusion in terms of the experiment task. Did the results match up with your expectations?"
   ]
  },
  {
   "cell_type": "code",
   "execution_count": 1,
   "metadata": {
    "collapsed": false
   },
   "outputs": [
    {
     "ename": "NameError",
     "evalue": "name 'ttest_ind' is not defined",
     "output_type": "error",
     "traceback": [
      "\u001b[0;31m---------------------------------------------------------------------------\u001b[0m",
      "\u001b[0;31mNameError\u001b[0m                                 Traceback (most recent call last)",
      "\u001b[0;32m<ipython-input-1-700f9ffb66a3>\u001b[0m in \u001b[0;36m<module>\u001b[0;34m()\u001b[0m\n\u001b[1;32m      1\u001b[0m \u001b[0;31m# Use scipy.stats.ttest_ind.\u001b[0m\u001b[0;34m\u001b[0m\u001b[0;34m\u001b[0m\u001b[0m\n\u001b[1;32m      2\u001b[0m \u001b[0;31m#t_stat, p_val = ttest_ind(df['Congruent'], df['Incongruent'], equal_var=False)\u001b[0m\u001b[0;34m\u001b[0m\u001b[0;34m\u001b[0m\u001b[0m\n\u001b[0;32m----> 3\u001b[0;31m \u001b[0mt_stat\u001b[0m\u001b[0;34m,\u001b[0m \u001b[0mp_val\u001b[0m \u001b[0;34m=\u001b[0m \u001b[0mttest_ind\u001b[0m\u001b[0;34m(\u001b[0m\u001b[0mdf\u001b[0m\u001b[0;34m[\u001b[0m\u001b[0;34m'Congruent'\u001b[0m\u001b[0;34m]\u001b[0m\u001b[0;34m,\u001b[0m \u001b[0mdf\u001b[0m\u001b[0;34m[\u001b[0m\u001b[0;34m'Incongruent'\u001b[0m\u001b[0;34m]\u001b[0m\u001b[0;34m)\u001b[0m\u001b[0;34m\u001b[0m\u001b[0m\n\u001b[0m\u001b[1;32m      4\u001b[0m \u001b[0;32mprint\u001b[0m \u001b[0;34m\"t_stat \"\u001b[0m\u001b[0;34m,\u001b[0m \u001b[0mt_stat\u001b[0m\u001b[0;34m\u001b[0m\u001b[0m\n\u001b[1;32m      5\u001b[0m \u001b[0;32mprint\u001b[0m \u001b[0;34m\"P-value \"\u001b[0m\u001b[0;34m,\u001b[0m \u001b[0mp_val\u001b[0m\u001b[0;34m\u001b[0m\u001b[0m\n",
      "\u001b[0;31mNameError\u001b[0m: name 'ttest_ind' is not defined"
     ]
    }
   ],
   "source": [
    "# Use scipy.stats.ttest_ind.\n",
    "#t_stat, p_val = ttest_ind(df['Congruent'], df['Incongruent'], equal_var=False)\n",
    "t_stat, p_val = ttest_ind(df['Congruent'], df['Incongruent'])\n",
    "print \"t_stat \", t_stat\n",
    "print \"P-value \", p_val\n"
   ]
  },
  {
   "cell_type": "markdown",
   "metadata": {},
   "source": [
    "### Statistic Test\n",
    "critical statistic value = 0.05\n",
    "confidential level = 0.95\n",
    "p_value < 0.05 \n",
    "reject null hypothesis "
   ]
  },
  {
   "cell_type": "markdown",
   "metadata": {},
   "source": [
    "### Condclusion. \n",
    "An independent-samples t-test was conducted to compare time to name ink color \n",
    "of congruent words and incongruent words  conditions.\n",
    "There was a significant difference in taken time for congruent words (Mean=14.0511, STD=3.5594) \n",
    "and incongruent words (Mean=22.01591, STD=4.7971) conditions; t(24)= -6.5323, p = 6.5102e-08\n",
    "These results show that ink color really does have an effect to human brain befoe alphabet."
   ]
  },
  {
   "cell_type": "markdown",
   "metadata": {},
   "source": [
    "### 6. Optional: What do you think is responsible for the effects observed? Can you think of an alternative or similar task that would result in a similar effect? Some research about the problem will be helpful for thinking about these two questions!"
   ]
  },
  {
   "cell_type": "markdown",
   "metadata": {
    "collapsed": true
   },
   "source": [
    "The human brain is reconize color before alphabet.\n",
    "The similar task is Search engines replacing our memory.\n",
    "Research name : Google Effects on Memory: Cognitive Consequences of Having Information at Our Fingertips\n",
    "by Betsy Sparrow, Jenny Liu, Daniel M. Wegner"
   ]
  },
  {
   "cell_type": "markdown",
   "metadata": {},
   "source": [
    "### Reference\n",
    "https://en.wikipedia.org/wiki/Stroop_effect\n",
    "http://pandas.pydata.org/pandas-docs/version/0.17.0/api.html\n",
    "http://docs.scipy.org/doc/scipy/reference/stats.html\n",
    "http://www.randalolson.com/2012/08/06/statistical-analysis-made-easy-in-python/\n",
    "http://www.abc.net.au/science/articles/2011/07/15/3270222.htm\n",
    "http://www.sciencemag.org/content/333/6043/776\n"
   ]
  }
 ],
 "metadata": {
  "kernelspec": {
   "display_name": "Python 2",
   "language": "python",
   "name": "python2"
  },
  "language_info": {
   "codemirror_mode": {
    "name": "ipython",
    "version": 2
   },
   "file_extension": ".py",
   "mimetype": "text/x-python",
   "name": "python",
   "nbconvert_exporter": "python",
   "pygments_lexer": "ipython2",
   "version": "2.7.10"
  }
 },
 "nbformat": 4,
 "nbformat_minor": 0
}
